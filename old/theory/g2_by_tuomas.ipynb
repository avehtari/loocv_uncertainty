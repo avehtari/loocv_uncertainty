{
 "cells": [
  {
   "cell_type": "code",
   "execution_count": 1,
   "metadata": {},
   "outputs": [],
   "source": [
    "library(matrixStats)\n",
    "library(MASS)"
   ]
  },
  {
   "cell_type": "code",
   "execution_count": 124,
   "metadata": {},
   "outputs": [],
   "source": [
    "# configurations\n",
    "\n",
    "n = 10\n",
    "n_trial = 1000\n",
    "\n",
    "# true distribution parameters\n",
    "mu_true = 2.0\n",
    "sigma2_true = 1.5\n",
    "gamma_true = 0.2"
   ]
  },
  {
   "cell_type": "code",
   "execution_count": 125,
   "metadata": {},
   "outputs": [],
   "source": [
    "# calculate true theta\n",
    "theta_true = n*sigma2_true + (n^2 - n)*gamma_true"
   ]
  },
  {
   "cell_type": "code",
   "execution_count": 126,
   "metadata": {},
   "outputs": [],
   "source": [
    "# form true mean and cov for X\n",
    "m_vec = rep(mu_true, n)\n",
    "C_mat = (sigma2_true - gamma_true)*diag(n) + gamma_true*array(1, c(n, n))"
   ]
  },
  {
   "cell_type": "code",
   "execution_count": 127,
   "metadata": {},
   "outputs": [],
   "source": [
    "# draw n_trial x n random samples\n",
    "Xs = array(mvrnorm(n_trial*n, m_vec, C_mat), c(n_trial, n, n))"
   ]
  },
  {
   "cell_type": "code",
   "execution_count": 128,
   "metadata": {},
   "outputs": [],
   "source": [
    "estims = array(0, c(n_trial))\n",
    "num_of_pairs = (n^2-n)/2\n",
    "for (trial_i in 1:n_trial) {\n",
    "    X = Xs[trial_i,,]\n",
    "    sum_of_pairs = 0.0\n",
    "    for (i in 1:(n-1)){\n",
    "        for (j in (i+1):n){\n",
    "            sum_of_k = 0.0\n",
    "            i_vec = X[c(-i, -j), i]\n",
    "            j_vec = X[c(-i, -j), j]\n",
    "            sum_of_pairs = sum_of_pairs + cov(i_vec, j_vec)\n",
    "        }\n",
    "    }\n",
    "    estims[trial_i] = sum_of_pairs / num_of_pairs\n",
    "}"
   ]
  },
  {
   "cell_type": "code",
   "execution_count": 129,
   "metadata": {},
   "outputs": [
    {
     "data": {
      "text/html": [
       "0.204791775883475"
      ],
      "text/latex": [
       "0.204791775883475"
      ],
      "text/markdown": [
       "0.204791775883475"
      ],
      "text/plain": [
       "[1] 0.2047918"
      ]
     },
     "metadata": {},
     "output_type": "display_data"
    }
   ],
   "source": [
    "mean(estims)"
   ]
  }
 ],
 "metadata": {
  "kernelspec": {
   "display_name": "R",
   "language": "R",
   "name": "ir"
  },
  "language_info": {
   "codemirror_mode": "r",
   "file_extension": ".r",
   "mimetype": "text/x-r-source",
   "name": "R",
   "pygments_lexer": "r",
   "version": "3.2.3"
  }
 },
 "nbformat": 4,
 "nbformat_minor": 2
}
