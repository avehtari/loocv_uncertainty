{
 "cells": [
  {
   "cell_type": "markdown",
   "metadata": {},
   "source": [
    "# About the variance of LOO estimate\n",
    "\n",
    "Let $X_i = \\widehat{\\text{elpd}}_{loo,i}$ and consider\n",
    "\\begin{align}\n",
    "X &= [X_1, X_2, \\dots, X_n]^T \\\\\n",
    "C := \\operatorname{Cov}(X) &= \n",
    "\\begin{bmatrix}\n",
    "    \\sigma^2 & \\gamma   &  \\cdots \\\\\n",
    "    \\gamma   & \\sigma^2 &  \\\\\n",
    "    \\vdots    &          & \\ddots\n",
    "\\end{bmatrix} \\\\\n",
    "m := \\operatorname{E}(X) &= [\\mu, \\mu, \\dots, \\mu]^T\n",
    "\\end{align}\n",
    "\n",
    "We are interested\n",
    "$$\n",
    "\\theta := \\operatorname{Var} \\left( \\sum_{i=1}^n X_i \\right) = \\sum_{i,j} C_{i,j} = n \\sigma^2 + (n^2 - n) \\gamma.\n",
    "$$\n",
    "We have one draw of $X$.\n",
    "Simple naive estimate for $\\theta$:\n",
    "\\begin{equation}\n",
    "\\hat{\\theta}_\\text{naive} = n \\operatorname{V}_{i=1}^n X_i\n",
    "   = n \\; \\frac{1}{n-1}\\sum_{i=1}^n \\left(X_i - \\hat{\\mu} \\right)^2\n",
    "\\end{equation}\n",
    "Currently we are considering a better estimate:\n",
    "\\begin{equation}\n",
    "\\hat{\\theta}_\\text{better} = n \\operatorname{V}_{i=1}^n X_i + (n^2 - n) \\hat{\\gamma}\n",
    "\\end{equation}\n",
    "where we are trying to estimate and add the missing contribution from $(n^2 - n) \\gamma$.\n",
    "\n",
    "However,\n",
    "\\begin{equation}\n",
    "\\operatorname{E}\\left[ \\operatorname{V}_{i=1}^n X_i \\right] = \\sigma^2 - \\gamma \\neq \\sigma^2\n",
    "\\end{equation}\n",
    "(see the calculations in appendix and the experiment).\n",
    "Thus, even if we would estimate the missing term $(n^2 - n) \\gamma$ without bias or we would know it, our better estimator $\\hat{\\theta}_\\text{better}$ is biased, $\\operatorname{E}\\left[ \\hat{\\theta}_\\text{better} \\right] \\neq \\theta$.\n",
    "\n",
    "Instead we might want to define our better estimator as:\n",
    "$$\n",
    "\\hat{\\theta}_\\text{better2} = n \\operatorname{V}_{i=1}^n X_i + n^2 \\hat{\\gamma}.\n",
    "$$\n",
    "\n",
    "The following code shows an example."
   ]
  },
  {
   "cell_type": "code",
   "execution_count": 1,
   "metadata": {},
   "outputs": [],
   "source": [
    "library(matrixStats)\n",
    "library(MASS)"
   ]
  },
  {
   "cell_type": "code",
   "execution_count": 2,
   "metadata": {},
   "outputs": [],
   "source": [
    "# configurations\n",
    "\n",
    "n = 5\n",
    "n_trial = 10000\n",
    "\n",
    "# true distribution parameters\n",
    "mu_true = 2.0\n",
    "sigma2_true = 1.5\n",
    "gamma_true = 0.2"
   ]
  },
  {
   "cell_type": "code",
   "execution_count": 3,
   "metadata": {},
   "outputs": [],
   "source": [
    "# calculate true theta\n",
    "theta_true = n*sigma2_true + (n^2 - n)*gamma_true"
   ]
  },
  {
   "cell_type": "code",
   "execution_count": 4,
   "metadata": {},
   "outputs": [],
   "source": [
    "# form true mean and cov for X\n",
    "m_vec = rep(mu_true, n)\n",
    "C_mat = (sigma2_true - gamma_true)*diag(n) + gamma_true*array(1, c(n, n))"
   ]
  },
  {
   "cell_type": "code",
   "execution_count": 5,
   "metadata": {},
   "outputs": [],
   "source": [
    "# draw n_trial random samples\n",
    "Xs = mvrnorm(n_trial, m_vec, C_mat)"
   ]
  },
  {
   "cell_type": "markdown",
   "metadata": {},
   "source": [
    "## Inspect different estimators"
   ]
  },
  {
   "cell_type": "code",
   "execution_count": 6,
   "metadata": {},
   "outputs": [],
   "source": [
    "# A estimator\n",
    "As = rowVars(Xs)"
   ]
  },
  {
   "cell_type": "code",
   "execution_count": 7,
   "metadata": {},
   "outputs": [
    {
     "name": "stdout",
     "output_type": "stream",
     "text": [
      "A estimator expectation:\n",
      "    1.29732\n",
      "theoretical:\n",
      "    1.3\n"
     ]
    }
   ],
   "source": [
    "cat('A estimator expectation:\\n')\n",
    "cat(sprintf('    %g\\n', mean(As)))\n",
    "cat('theoretical:\\n')\n",
    "cat(sprintf('    %g\\n', sigma2_true - gamma_true))"
   ]
  },
  {
   "cell_type": "code",
   "execution_count": 8,
   "metadata": {},
   "outputs": [],
   "source": [
    "# B estimator\n",
    "Bs = array(0, c(n_trial))\n",
    "num_of_pairs = choose(n, 2)\n",
    "for (trial_i in 1:n_trial) {\n",
    "    X = Xs[trial_i,]\n",
    "    sum_of_product = 0.0\n",
    "    for (i in 1:(n-1)){\n",
    "        for (j in (i+1):n){\n",
    "            sum_of_product = sum_of_product + X[i]*X[j]\n",
    "        }\n",
    "    }\n",
    "    sum_of_product = sum_of_product / num_of_pairs\n",
    "    Bs[trial_i] = sum_of_product\n",
    "}"
   ]
  },
  {
   "cell_type": "code",
   "execution_count": 9,
   "metadata": {},
   "outputs": [
    {
     "name": "stdout",
     "output_type": "stream",
     "text": [
      "B estimator expectation:\n",
      "    4.15743\n",
      "theoretical:\n",
      "    4.2\n"
     ]
    }
   ],
   "source": [
    "cat('B estimator expectation:\\n')\n",
    "cat(sprintf('    %g\\n', mean(Bs)))\n",
    "cat('theoretical:\\n')\n",
    "cat(sprintf('    %g\\n', gamma_true + mu_true^2))"
   ]
  },
  {
   "cell_type": "code",
   "execution_count": 10,
   "metadata": {},
   "outputs": [],
   "source": [
    "# C estimator\n",
    "Cs = rowMeans(Xs^2)"
   ]
  },
  {
   "cell_type": "code",
   "execution_count": 11,
   "metadata": {},
   "outputs": [
    {
     "name": "stdout",
     "output_type": "stream",
     "text": [
      "C estimator expectation:\n",
      "    5.45475\n",
      "theoretical:\n",
      "    5.5\n"
     ]
    }
   ],
   "source": [
    "cat('C estimator expectation:\\n')\n",
    "cat(sprintf('    %g\\n', mean(Cs)))\n",
    "cat('theoretical:\\n')\n",
    "cat(sprintf('    %g\\n', sigma2_true + mu_true^2))"
   ]
  },
  {
   "cell_type": "code",
   "execution_count": 12,
   "metadata": {},
   "outputs": [],
   "source": [
    "# D estimator\n",
    "Ds = rowMeans(Xs)^2"
   ]
  },
  {
   "cell_type": "code",
   "execution_count": 13,
   "metadata": {},
   "outputs": [
    {
     "name": "stdout",
     "output_type": "stream",
     "text": [
      "D estimator expectation:\n",
      "    4.41689\n",
      "theoretical:\n",
      "    4.46\n"
     ]
    }
   ],
   "source": [
    "cat('D estimator expectation:\\n')\n",
    "cat(sprintf('    %g\\n', mean(Ds)))\n",
    "cat('theoretical:\\n')\n",
    "cat(sprintf('    %g\\n', sigma2_true/n + ((n-1)/n)*gamma_true + mu_true^2))"
   ]
  },
  {
   "cell_type": "markdown",
   "metadata": {},
   "source": [
    "## True variance for the sum"
   ]
  },
  {
   "cell_type": "code",
   "execution_count": 14,
   "metadata": {},
   "outputs": [],
   "source": [
    "# sample variance of the sum\n",
    "sample_var_sum = var(rowSums(Xs))"
   ]
  },
  {
   "cell_type": "code",
   "execution_count": 15,
   "metadata": {},
   "outputs": [
    {
     "name": "stdout",
     "output_type": "stream",
     "text": [
      "sample variance of the sum:\n",
      "    11.3462\n",
      "theoretical:\n",
      "    11.5\n"
     ]
    }
   ],
   "source": [
    "cat('sample variance of the sum:\\n')\n",
    "cat(sprintf('    %g\\n', sample_var_sum))\n",
    "cat('theoretical:\\n')\n",
    "cat(sprintf('    %g\\n', n*sigma2_true + (n^2-n)*gamma_true))"
   ]
  },
  {
   "cell_type": "code",
   "execution_count": 16,
   "metadata": {
    "scrolled": true
   },
   "outputs": [],
   "source": [
    "# the naive estimate for theta\n",
    "theta_naive_s = n*rowVars(Xs)"
   ]
  },
  {
   "cell_type": "code",
   "execution_count": 17,
   "metadata": {},
   "outputs": [
    {
     "name": "stdout",
     "output_type": "stream",
     "text": [
      "expectation of the naive estimate for theta:\n",
      "    6.48658\n",
      "true theta:\n",
      "    11.5\n"
     ]
    }
   ],
   "source": [
    "# compare the naive estimate to the true theta\n",
    "cat('expectation of the naive estimate for theta:\\n')\n",
    "cat(sprintf('    %g\\n', mean(theta_naive_s)))\n",
    "cat('true theta:\\n')\n",
    "cat(sprintf('    %g\\n', n*sigma2_true + (n^2-n)*gamma_true))"
   ]
  },
  {
   "cell_type": "markdown",
   "metadata": {},
   "source": [
    "\n",
    "### Appendix\n",
    "\n",
    "\\begin{align}\n",
    "\\operatorname{E}\\left( X_i X_j \\right)\n",
    "    &= \\operatorname{E}\\left( X_i \\right) \\operatorname{E}\\left( X_j \\right)\n",
    "        + \\operatorname{Cov}\\left(X_i, X_j \\right)\n",
    "        \\qquad \\text{from the definition of covariance}\\\\\n",
    "    &= \\begin{cases}\n",
    "        \\mu^2 + \\sigma^2, \\qquad \\text{when} \\quad i = j, \\\\\n",
    "        \\mu^2 + \\gamma, \\qquad \\text{when} \\quad i \\neq j. \\\\\n",
    "    \\end{cases}\n",
    "\\end{align}\n",
    "\n",
    "#### variance for each trial\n",
    "\n",
    "\\begin{align}\n",
    "\\qquad V := \\operatorname{V}_{i=1}^n X_i\n",
    "    &= \\frac{1}{n-1}\\sum_{i=1}^n \\left(X_i - \\hat{\\mu} \\right)^2 \\\\\n",
    "    &= \\frac{1}{n-1}\\sum_{i=1}^n \\left(X_i - \\frac{1}{n}\\sum_{i=1}^n X_i \\right)^2\\\\\n",
    "    &= \\frac{1}{n-1}\\sum_{i=1}^n \\left(\n",
    "        \\frac{n-2}{n}X_i^2\n",
    "        -\\frac{2}{n} \\sum_{j \\neq i} X_i X_j\n",
    "        +\\frac{1}{n^2} \\sum_{j=1}^{n} \\sum_{k \\neq j} X_j X_k\n",
    "        +\\frac{1}{n^2} \\sum_{j=1}^{n} X_j^2\n",
    "    \\right)^2 \\\\\n",
    "\\operatorname{E}(V)\n",
    "    &= \\frac{1}{n-1}\\sum_{i=1}^n \\Biggl(\n",
    "        \\frac{n-2}{n} \\operatorname{E}\\left( X_i^2 \\right)\n",
    "        -\\frac{2}{n} \\sum_{j \\neq i} \\operatorname{E}\\left( X_i X_j \\right)\n",
    "     \\\\ & \\qquad \\qquad \\qquad\n",
    "        +\\frac{1}{n^2} \\sum_{j=1}^{n} \\sum_{k \\neq j} \\operatorname{E}\\left( X_j X_k \\right)\n",
    "        +\\frac{1}{n^2} \\sum_{j=1}^{n} \\operatorname{E}\\left( X_j^2 \\right)\n",
    "    \\Biggr)^2 \\\\\n",
    "    &= \\frac{1}{n-1}\\sum_{i=1}^n \\Biggl(\n",
    "        \\frac{n-2}{n} \\left( \\mu^2 + \\sigma^2 \\right)\n",
    "        -\\frac{2}{n} (n-1) \\left( \\mu^2 + \\gamma \\right)\n",
    "     \\\\ & \\qquad \\qquad \\qquad\n",
    "        +\\frac{1}{n^2} n (n-1) \\left( \\mu^2 + \\gamma \\right)\n",
    "        +\\frac{1}{n^2} n \\left( \\mu^2 + \\sigma^2 \\right)\n",
    "    \\Biggr)^2 \\\\\n",
    "    & = \\frac{1}{n-1}\\sum_{i=1}^n \\left(\n",
    "        \\frac{n-1}{n} \\sigma^2\n",
    "        -\\frac{n-1}{n} \\gamma\n",
    "    \\right)^2 \\\\\n",
    "    &= \\sigma^2 - \\gamma \\neq \\sigma^2\n",
    "\\end{align}"
   ]
  }
 ],
 "metadata": {
  "kernelspec": {
   "display_name": "R",
   "language": "R",
   "name": "ir"
  },
  "language_info": {
   "codemirror_mode": "r",
   "file_extension": ".r",
   "mimetype": "text/x-r-source",
   "name": "R",
   "pygments_lexer": "r",
   "version": "3.2.3"
  }
 },
 "nbformat": 4,
 "nbformat_minor": 2
}
