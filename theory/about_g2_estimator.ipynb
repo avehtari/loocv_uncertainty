{
 "cells": [
  {
   "cell_type": "markdown",
   "metadata": {},
   "source": [
    "# About the variance of LOO estimate\n",
    "\n",
    "Let $X_i = \\widehat{\\text{elpd}}_{loo,i}$ and consider\n",
    "\\begin{align}\n",
    "X &= [X_1, X_2, \\dots, X_n]^T \\\\\n",
    "C := \\operatorname{Cov}(X) &= \n",
    "\\begin{bmatrix}\n",
    "    \\sigma^2 & \\gamma   &  \\cdots \\\\\n",
    "    \\gamma   & \\sigma^2 &  \\\\\n",
    "    \\vdots    &          & \\ddots\n",
    "\\end{bmatrix} \\\\\n",
    "m := \\operatorname{E}(X) &= [\\mu, \\mu, \\dots, \\mu]^T\n",
    "\\end{align}\n",
    "\n",
    "We are interested\n",
    "$$\n",
    "\\theta := \\operatorname{Var} \\left( \\sum_{i=1}^n X_i \\right) = \\sum_{i,j} C_{i,j} = n \\sigma^2 + (n^2 - n) \\gamma.\n",
    "$$\n",
    "We have one draw of $X$.\n",
    "Simple naive estimate for $\\theta$:\n",
    "\\begin{equation}\n",
    "\\hat{\\theta}_\\text{naive} = n \\operatorname{V}_{i=1}^n X_i\n",
    "   = n \\; \\frac{1}{n-1}\\sum_{i=1}^n \\left(X_i - \\hat{\\mu} \\right)^2\n",
    "\\end{equation}\n",
    "Currently we are considering a better estimate:\n",
    "\\begin{equation}\n",
    "\\hat{\\theta}_\\text{better} = n \\operatorname{V}_{i=1}^n X_i + (n^2 - n) \\hat{\\gamma}\n",
    "\\end{equation}\n",
    "where we are trying to estimate and add the missing contribution from $(n^2 - n) \\gamma$.\n",
    "\n",
    "However,\n",
    "\\begin{equation}\n",
    "\\operatorname{E}\\left[ \\operatorname{V}_{i=1}^n X_i \\right] = \\sigma^2 - \\gamma \\neq \\sigma^2\n",
    "\\end{equation}\n",
    "(see the calculations in appendix and the experiment).\n",
    "Thus, even if we would estimate the missing term $(n^2 - n) \\gamma$ without bias or we would know it, our better estimator $\\hat{\\theta}_\\text{better}$ is biased, $\\operatorname{E}\\left[ \\hat{\\theta}_\\text{better} \\right] \\neq \\theta$.\n",
    "\n",
    "Instead we might want to define our better estimator as:\n",
    "$$\n",
    "\\hat{\\theta}_\\text{better2} = n \\operatorname{V}_{i=1}^n X_i + n^2 \\hat{\\gamma}.\n",
    "$$\n",
    "\n",
    "The following code shows an example."
   ]
  },
  {
   "cell_type": "code",
   "execution_count": 4,
   "metadata": {},
   "outputs": [],
   "source": [
    "library(matrixStats)\n",
    "library(MASS)"
   ]
  },
  {
   "cell_type": "code",
   "execution_count": 5,
   "metadata": {},
   "outputs": [],
   "source": [
    "# configurations\n",
    "\n",
    "n = 5\n",
    "n_trial = 10000\n",
    "\n",
    "# true distribution parameters\n",
    "mu_true = 2.0\n",
    "sigma2_true = 1.5\n",
    "gamma_true = 0.2"
   ]
  },
  {
   "cell_type": "code",
   "execution_count": 14,
   "metadata": {},
   "outputs": [],
   "source": [
    "# calculate true theta\n",
    "theta_true = n*sigma2_true + (n^2 - n)*gamma_true"
   ]
  },
  {
   "cell_type": "code",
   "execution_count": 6,
   "metadata": {},
   "outputs": [],
   "source": [
    "# form true mean and cov for X\n",
    "m_vec = rep(mu_true, n)\n",
    "C_mat = (sigma2_true - gamma_true)*diag(n) + gamma_true*array(1, c(n, n))"
   ]
  },
  {
   "cell_type": "code",
   "execution_count": 7,
   "metadata": {},
   "outputs": [],
   "source": [
    "# draw n_trial random samples\n",
    "Xs = mvrnorm(n_trial, m_vec, C_mat)"
   ]
  },
  {
   "cell_type": "code",
   "execution_count": 8,
   "metadata": {},
   "outputs": [],
   "source": [
    "# variance for each trial\n",
    "trial_vars = rowVars(Xs)\n",
    "# expectation of this estimate\n",
    "trial_var_mean = mean(trial_vars)"
   ]
  },
  {
   "cell_type": "code",
   "execution_count": 13,
   "metadata": {},
   "outputs": [
    {
     "name": "stdout",
     "output_type": "stream",
     "text": [
      "mean of V_{i=1}^n X_i:\n",
      "    1.30345\n",
      "from the calculations:\n",
      "    1.3\n"
     ]
    }
   ],
   "source": [
    "cat('mean of V_{i=1}^n X_i:\\n')\n",
    "cat(sprintf('    %g\\n', trial_var_mean))\n",
    "cat('from the calculations:\\n')\n",
    "cat(sprintf('    %g\\n', sigma2_true - gamma_true))"
   ]
  },
  {
   "cell_type": "code",
   "execution_count": 15,
   "metadata": {},
   "outputs": [],
   "source": [
    "# the naive estimate for theta\n",
    "theta_naive_s = n*trial_vars\n",
    "# expectation of this estimate\n",
    "theta_naive_s_mean = mean(theta_naive_s)"
   ]
  },
  {
   "cell_type": "code",
   "execution_count": 16,
   "metadata": {},
   "outputs": [
    {
     "name": "stdout",
     "output_type": "stream",
     "text": [
      "expectation of the naive estimate for theta:\n",
      "    6.51723\n",
      "true theta:\n",
      "    11.5\n"
     ]
    }
   ],
   "source": [
    "# compare the naive estimate to the true theta\n",
    "cat('expectation of the naive estimate for theta:\\n')\n",
    "cat(sprintf('    %g\\n', theta_naive_s_mean))\n",
    "cat('true theta:\\n')\n",
    "cat(sprintf('    %g\\n', theta_true))"
   ]
  },
  {
   "cell_type": "code",
   "execution_count": 18,
   "metadata": {},
   "outputs": [],
   "source": [
    "# our better estimator if we would have super precise estimator for gamma\n",
    "theta_better_s = n*trial_vars + (n^2-n)*gamma_true\n",
    "# expectation of this estimate\n",
    "theta_better_s_mean = mean(theta_better_s)"
   ]
  },
  {
   "cell_type": "code",
   "execution_count": 25,
   "metadata": {},
   "outputs": [
    {
     "name": "stdout",
     "output_type": "stream",
     "text": [
      "expectation of the better estimate for theta:\n",
      "    10.5172\n",
      "true theta:\n",
      "    11.5\n",
      "it is off by n times gamma = 1\n"
     ]
    }
   ],
   "source": [
    "# compare the naive estimate to the true theta\n",
    "cat('expectation of the better estimate for theta:\\n')\n",
    "cat(sprintf('    %g\\n', theta_better_s_mean))\n",
    "cat('true theta:\\n')\n",
    "cat(sprintf('    %g\\n', theta_true))\n",
    "cat(sprintf('it is off by n times gamma = %g\\n', n*gamma_true))"
   ]
  },
  {
   "cell_type": "markdown",
   "metadata": {},
   "source": [
    "\n",
    "### Appendix\n",
    "\n",
    "\\begin{align}\n",
    "\\operatorname{E}\\left( X_i X_j \\right)\n",
    "    &= \\operatorname{E}\\left( X_i \\right) \\operatorname{E}\\left( X_j \\right)\n",
    "        + \\operatorname{Cov}\\left(X_i, X_j \\right)\n",
    "        \\qquad \\text{from the definition of covariance}\\\\\n",
    "    &= \\begin{cases}\n",
    "        \\mu^2 + \\sigma^2, \\qquad \\text{when} \\quad i = j, \\\\\n",
    "        \\mu^2 + \\gamma, \\qquad \\text{when} \\quad i \\neq j. \\\\\n",
    "    \\end{cases}\n",
    "\\end{align}\n",
    "\n",
    "#### variance for each trial\n",
    "\n",
    "\\begin{align}\n",
    "\\qquad V := \\operatorname{V}_{i=1}^n X_i\n",
    "    &= \\frac{1}{n-1}\\sum_{i=1}^n \\left(X_i - \\hat{\\mu} \\right)^2 \\\\\n",
    "    &= \\frac{1}{n-1}\\sum_{i=1}^n \\left(X_i - \\frac{1}{n}\\sum_{i=1}^n X_i \\right)^2\\\\\n",
    "    &= \\frac{1}{n-1}\\sum_{i=1}^n \\left(\n",
    "        \\frac{n-2}{n}X_i^2\n",
    "        -\\frac{2}{n} \\sum_{j \\neq i} X_i X_j\n",
    "        +\\frac{1}{n^2} \\sum_{j=1}^{n} \\sum_{k \\neq j} X_j X_k\n",
    "        +\\frac{1}{n^2} \\sum_{j=1}^{n} X_j^2\n",
    "    \\right)^2 \\\\\n",
    "\\operatorname{E}(V)\n",
    "    &= \\frac{1}{n-1}\\sum_{i=1}^n \\Biggl(\n",
    "        \\frac{n-2}{n} \\operatorname{E}\\left( X_i^2 \\right)\n",
    "        -\\frac{2}{n} \\sum_{j \\neq i} \\operatorname{E}\\left( X_i X_j \\right)\n",
    "     \\\\ & \\qquad \\qquad \\qquad\n",
    "        +\\frac{1}{n^2} \\sum_{j=1}^{n} \\sum_{k \\neq j} \\operatorname{E}\\left( X_j X_k \\right)\n",
    "        +\\frac{1}{n^2} \\sum_{j=1}^{n} \\operatorname{E}\\left( X_j^2 \\right)\n",
    "    \\Biggr)^2 \\\\\n",
    "    &= \\frac{1}{n-1}\\sum_{i=1}^n \\Biggl(\n",
    "        \\frac{n-2}{n} \\left( \\mu^2 + \\sigma^2 \\right)\n",
    "        -\\frac{2}{n} (n-1) \\left( \\mu^2 + \\gamma \\right)\n",
    "     \\\\ & \\qquad \\qquad \\qquad\n",
    "        +\\frac{1}{n^2} n (n-1) \\left( \\mu^2 + \\gamma \\right)\n",
    "        +\\frac{1}{n^2} n \\left( \\mu^2 + \\sigma^2 \\right)\n",
    "    \\Biggr)^2 \\\\\n",
    "    & = \\frac{1}{n-1}\\sum_{i=1}^n \\left(\n",
    "        \\frac{n-1}{n} \\sigma^2\n",
    "        -\\frac{n-1}{n} \\gamma\n",
    "    \\right)^2 \\\\\n",
    "    &= \\sigma^2 - \\gamma \\neq \\sigma^2\n",
    "\\end{align}"
   ]
  }
 ],
 "metadata": {
  "kernelspec": {
   "display_name": "R",
   "language": "R",
   "name": "ir"
  },
  "language_info": {
   "codemirror_mode": "r",
   "file_extension": ".r",
   "mimetype": "text/x-r-source",
   "name": "R",
   "pygments_lexer": "r",
   "version": "3.2.3"
  }
 },
 "nbformat": 4,
 "nbformat_minor": 2
}
